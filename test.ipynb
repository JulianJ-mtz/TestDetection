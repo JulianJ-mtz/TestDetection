{
 "cells": [
  {
   "cell_type": "markdown",
   "metadata": {},
   "source": [
    "### Test de detecciond de poses con mediapipe\n"
   ]
  },
  {
   "cell_type": "code",
   "execution_count": 1,
   "metadata": {
    "ExecuteTime": {
     "end_time": "2024-09-21T21:32:04.135071Z",
     "start_time": "2024-09-21T21:32:04.132231Z"
    }
   },
   "outputs": [],
   "source": [
    "## Importaciones\n",
    "import mediapipe as mp\n",
    "from mediapipe.tasks import python\n",
    "from mediapipe.tasks.python import vision\n",
    "import cv2\n",
    "import numpy as np\n",
    "import time\n",
    "import csv"
   ]
  },
  {
   "cell_type": "code",
   "execution_count": 2,
   "metadata": {
    "ExecuteTime": {
     "end_time": "2024-09-21T21:32:04.147304Z",
     "start_time": "2024-09-21T21:32:04.144658Z"
    }
   },
   "outputs": [],
   "source": [
    "## Modelo\n",
    "model_path = \"Models/pose_landmarker_full.task\""
   ]
  },
  {
   "cell_type": "code",
   "execution_count": 3,
   "metadata": {
    "ExecuteTime": {
     "end_time": "2024-09-21T21:32:04.156547Z",
     "start_time": "2024-09-21T21:32:04.153063Z"
    }
   },
   "outputs": [],
   "source": [
    "## Importaciones de mediapipe\n",
    "BaseOptions = mp.tasks.BaseOptions\n",
    "PoseLandmarker = mp.tasks.vision.PoseLandmarker\n",
    "PoseLandmarkerOptions = mp.tasks.vision.PoseLandmarkerOptions\n",
    "PoseLandmarkerResult = mp.tasks.vision.PoseLandmarkerResult\n",
    "VisionRunningMode = mp.tasks.vision.RunningMode\n",
    "\n",
    "mp_drawing = mp.solutions.drawing_utils\n",
    "mp_drawing_styles = mp.solutions.drawing_styles\n",
    "mp_pose = mp.solutions.pose"
   ]
  },
  {
   "cell_type": "code",
   "execution_count": 4,
   "metadata": {},
   "outputs": [],
   "source": [
    "# globales\n",
    "latest_frame = None\n",
    "processing = False\n"
   ]
  },
  {
   "cell_type": "code",
   "execution_count": 5,
   "metadata": {},
   "outputs": [
    {
     "data": {
      "text/plain": [
       "40"
      ]
     },
     "execution_count": 5,
     "metadata": {},
     "output_type": "execute_result"
    }
   ],
   "source": [
    "# csv \n",
    "csv_file = open('pose_landmarks.csv', 'w', newline='')\n",
    "csv_writer = csv.writer(csv_file)\n",
    "csv_writer.writerow(['timestamp', 'landmark_id', 'x', 'y', 'z', 'visibility'])\n"
   ]
  },
  {
   "cell_type": "code",
   "execution_count": 6,
   "metadata": {},
   "outputs": [],
   "source": [
    "\n",
    "\n",
    "# dibuja las lineas\n",
    "def draw_landmarks_manually(image, landmarks, connections):\n",
    "    height, width, _ = image.shape\n",
    "    for landmark in landmarks:\n",
    "        x = int(landmark.x * width)\n",
    "        y = int(landmark.y * height)\n",
    "        cv2.circle(image, (x, y), 5, (0, 255, 0), -1)\n",
    "    \n",
    "    for connection in connections:\n",
    "        start_idx = connection[0]\n",
    "        end_idx = connection[1]\n",
    "        start_point = landmarks[start_idx]\n",
    "        end_point = landmarks[end_idx]\n",
    "        \n",
    "        start_x = int(start_point.x * width)\n",
    "        start_y = int(start_point.y * height)\n",
    "        end_x = int(end_point.x * width)\n",
    "        end_y = int(end_point.y * height)\n",
    "        \n",
    "        cv2.line(image, (start_x, start_y), (end_x, end_y), (0, 255, 0), 2)\n"
   ]
  },
  {
   "cell_type": "code",
   "execution_count": 7,
   "metadata": {},
   "outputs": [],
   "source": [
    "\n",
    "def print_result(result: PoseLandmarkerResult, output_image: mp.Image, timestamp_ms: int): # type: ignore\n",
    "    global latest_frame, processing\n",
    "    try:\n",
    "        frame = output_image.numpy_view()\n",
    "        frame = cv2.cvtColor(frame, cv2.COLOR_RGB2BGR)\n",
    "\n",
    "        if result.pose_landmarks:\n",
    "            # Draw the pose landmarks\n",
    "            for landmarks in result.pose_landmarks:\n",
    "                draw_landmarks_manually(frame, landmarks, mp_pose.POSE_CONNECTIONS)\n",
    "\n",
    "                for idx, landmark in enumerate(landmarks):\n",
    "                    # Write landmark data to CSV\n",
    "                    csv_writer.writerow([timestamp_ms, idx, landmark.x, landmark.y, landmark.z, landmark.visibility])\n",
    "\n",
    "        latest_frame = frame\n",
    "    except Exception as e:\n",
    "        print(f\"Error in print_result: {e}\")\n",
    "        import traceback\n",
    "        traceback.print_exc()\n",
    "    finally:\n",
    "        processing = False\n"
   ]
  },
  {
   "cell_type": "code",
   "execution_count": 8,
   "metadata": {},
   "outputs": [],
   "source": [
    "options = PoseLandmarkerOptions(\n",
    "    base_options=BaseOptions(model_asset_path=model_path),\n",
    "    running_mode=VisionRunningMode.LIVE_STREAM,\n",
    "    result_callback=print_result)"
   ]
  },
  {
   "cell_type": "code",
   "execution_count": 9,
   "metadata": {
    "ExecuteTime": {
     "end_time": "2024-09-21T21:32:04.173659Z",
     "start_time": "2024-09-21T21:32:04.164426Z"
    }
   },
   "outputs": [
    {
     "name": "stderr",
     "output_type": "stream",
     "text": [
      "WARNING: All log messages before absl::InitializeLog() is called are written to STDERR\n",
      "I0000 00:00:1726968711.081439 3155859 gl_context.cc:357] GL version: 2.1 (2.1 Metal - 88.1), renderer: Apple M1 Pro\n",
      "INFO: Created TensorFlow Lite XNNPACK delegate for CPU.\n",
      "W0000 00:00:1726968711.188461 3156018 inference_feedback_manager.cc:114] Feedback manager requires a model with a single signature inference. Disabling support for feedback tensors.\n",
      "W0000 00:00:1726968711.206332 3156018 inference_feedback_manager.cc:114] Feedback manager requires a model with a single signature inference. Disabling support for feedback tensors.\n",
      "W0000 00:00:1726968713.143249 3156023 landmark_projection_calculator.cc:186] Using NORM_RECT without IMAGE_DIMENSIONS is only supported for the square ROI. Provide IMAGE_DIMENSIONS or use PROJECTION_MATRIX.\n",
      "/Users/jjmr/PycharmProjects/TestDetection/venv/lib/python3.9/site-packages/google/protobuf/symbol_database.py:55: UserWarning: SymbolDatabase.GetPrototype() is deprecated. Please use message_factory.GetMessageClass() instead. SymbolDatabase.GetPrototype() will be removed soon.\n",
      "  warnings.warn('SymbolDatabase.GetPrototype() is deprecated. Please '\n"
     ]
    },
    {
     "name": "stdout",
     "output_type": "stream",
     "text": [
      "OpenCV version: 4.10.0\n",
      "MediaPipe version: 0.10.15\n"
     ]
    },
    {
     "ename": "",
     "evalue": "",
     "output_type": "error",
     "traceback": [
      "\u001b[1;31mThe Kernel crashed while executing code in the current cell or a previous cell. \n",
      "\u001b[1;31mPlease review the code in the cell(s) to identify a possible cause of the failure. \n",
      "\u001b[1;31mClick <a href='https://aka.ms/vscodeJupyterKernelCrash'>here</a> for more info. \n",
      "\u001b[1;31mView Jupyter <a href='command:jupyter.viewOutput'>log</a> for further details."
     ]
    }
   ],
   "source": [
    "\n",
    "\n",
    "\n",
    "# crea el modelo\n",
    "with PoseLandmarker.create_from_options(options) as landmarker:\n",
    "    # captura el video\n",
    "    cap = cv2.VideoCapture(0)\n",
    "    \n",
    "    # seteo de la camara\n",
    "    cap.set(cv2.CAP_PROP_FRAME_WIDTH, 640)\n",
    "    cap.set(cv2.CAP_PROP_FRAME_HEIGHT, 480)\n",
    "    cap.set(cv2.CAP_PROP_FPS, 30)  \n",
    "    \n",
    "    # tiempo de cada frame\n",
    "    frame_time = 1/30  \n",
    "    last_time = time.time()\n",
    "\n",
    "    try:\n",
    "        while cap.isOpened():\n",
    "            current_time = time.time()\n",
    "            delta_time = current_time - last_time\n",
    "\n",
    "            if delta_time >= frame_time:\n",
    "                success, frame = cap.read()\n",
    "                if not success:\n",
    "                    print(\"Failed to read frame from webcam\")\n",
    "                    break\n",
    "\n",
    "                if not processing:\n",
    "                    processing = True\n",
    "                    frame_rgb = cv2.cvtColor(frame, cv2.COLOR_BGR2RGB)\n",
    "                    mp_image = mp.Image(image_format=mp.ImageFormat.SRGB, data=frame_rgb)\n",
    "                    landmarker.detect_async(mp_image, int(current_time * 1000))\n",
    "\n",
    "                if latest_frame is not None:\n",
    "                    cv2.imshow('Pose Landmarker', latest_frame)\n",
    "                else:\n",
    "                    cv2.imshow('Pose Landmarker', frame)\n",
    "\n",
    "                last_time = current_time\n",
    "\n",
    "            if cv2.waitKey(1) & 0xFF == ord('q'):\n",
    "                break\n",
    "\n",
    "    finally:\n",
    "        # libera la camara\n",
    "        cap.release()\n",
    "        # cierra la ventana\n",
    "        cv2.destroyAllWindows()\n",
    "        # cierra el csv\n",
    "        csv_file.close()  \n",
    "\n",
    "# imprime la version de opencv y mediapipe  \n",
    "print(f\"OpenCV version: {cv2.__version__}\")\n",
    "print(f\"MediaPipe version: {mp.__version__}\")"
   ]
  }
 ],
 "metadata": {
  "kernelspec": {
   "display_name": "venv",
   "language": "python",
   "name": "python3"
  },
  "language_info": {
   "codemirror_mode": {
    "name": "ipython",
    "version": 3
   },
   "file_extension": ".py",
   "mimetype": "text/x-python",
   "name": "python",
   "nbconvert_exporter": "python",
   "pygments_lexer": "ipython3",
   "version": "3.9.6"
  }
 },
 "nbformat": 4,
 "nbformat_minor": 2
}
